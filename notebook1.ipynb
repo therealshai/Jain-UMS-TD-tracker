{
  "nbformat": 4,
  "nbformat_minor": 0,
  "metadata": {
    "colab": {
      "provenance": [],
      "authorship_tag": "ABX9TyNVH0hD0QywesgqWPSNgWpu"
    },
    "kernelspec": {
      "name": "python3",
      "display_name": "Python 3"
    },
    "language_info": {
      "name": "python"
    }
  },
  "cells": [
    {
      "cell_type": "markdown",
      "source": [
        "##Python Fundamentals"
      ],
      "metadata": {
        "id": "2DRnOASEWp0A"
      }
    },
    {
      "cell_type": "code",
      "execution_count": null,
      "metadata": {
        "id": "ASGGCwIqWJ6h"
      },
      "outputs": [],
      "source": []
    }
  ]
}